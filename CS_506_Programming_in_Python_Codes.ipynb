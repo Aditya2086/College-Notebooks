{
  "nbformat": 4,
  "nbformat_minor": 0,
  "metadata": {
    "colab": {
      "provenance": [],
      "authorship_tag": "ABX9TyOeO1qvxBpIZODVZ1xFJIVI",
      "include_colab_link": true
    },
    "kernelspec": {
      "name": "python3",
      "display_name": "Python 3"
    },
    "language_info": {
      "name": "python"
    }
  },
  "cells": [
    {
      "cell_type": "markdown",
      "metadata": {
        "id": "view-in-github",
        "colab_type": "text"
      },
      "source": [
        "<a href=\"https://colab.research.google.com/github/Aditya2086/College-Notebooks/blob/main/CS_506_Programming_in_Python_Codes.ipynb\" target=\"_parent\"><img src=\"https://colab.research.google.com/assets/colab-badge.svg\" alt=\"Open In Colab\"/></a>"
      ]
    },
    {
      "cell_type": "markdown",
      "source": [
        "# **EXPERIMENT NO.1**\n",
        "\n",
        "## **AIM :- To Write A Python Program To Find GCD Of Two Numbers.**"
      ],
      "metadata": {
        "id": "g2o3ker3Eq3y"
      }
    },
    {
      "cell_type": "code",
      "execution_count": null,
      "metadata": {
        "colab": {
          "base_uri": "https://localhost:8080/"
        },
        "id": "AFwXRJ8qAb22",
        "outputId": "9bfc7736-0aa6-43f3-c2cc-45df02b676d6"
      },
      "outputs": [
        {
          "output_type": "stream",
          "name": "stdout",
          "text": [
            "Enter 1nd number :- 336\n",
            "Enter 2nd number :- 360\n",
            "GCD is 24\n"
          ]
        }
      ],
      "source": [
        "# GCD of two numbers  \n",
        "num1 = int(input(\"Enter 1nd number :- \"))\n",
        "num2 = int(input(\"Enter 2nd number :- \"))\n",
        "i = 1\n",
        "while(i<= num1 and i <= num2):\n",
        " if(num1 % i == 0 and num2 % i == 0):\n",
        "  gcd = i\n",
        " i = i + 1\n",
        "print(\"GCD is\", gcd)"
      ]
    },
    {
      "cell_type": "markdown",
      "source": [
        "# **EXPERIMENT NO.2**\n",
        "\n",
        "## **AIM :- To Write A Python Program To Find The Square Root Of A Number by Newton’s Method.**"
      ],
      "metadata": {
        "id": "6A5sNDBSFga0"
      }
    },
    {
      "cell_type": "code",
      "source": [
        "# Q1 :- Simple Program to find Square Root\n",
        "aa=36\n",
        "num=aa**0.5\n",
        "print(num)"
      ],
      "metadata": {
        "id": "gJW_Uc1fHaPP",
        "colab": {
          "base_uri": "https://localhost:8080/"
        },
        "outputId": "cddf7a3f-40d7-4619-bd32-f016233e9ca7"
      },
      "execution_count": null,
      "outputs": [
        {
          "output_type": "stream",
          "name": "stdout",
          "text": [
            "6.0\n"
          ]
        }
      ]
    },
    {
      "cell_type": "code",
      "source": [
        "# Q2 :- Program – Newton’s Method To find square root of a number using Newton’s Method\n",
        "\n",
        "def newtonSqrt(n, howmany):\n",
        " approx = 0.5 * n\n",
        " for i in range(howmany):\n",
        "    betterapprox = 0.5 * (approx + n/approx)\n",
        "    approx = betterapprox\n",
        " return betterapprox\n",
        "\n",
        " print(newtonSqrt(100,10))"
      ],
      "metadata": {
        "id": "Wyu5bDTJGOuH"
      },
      "execution_count": null,
      "outputs": []
    },
    {
      "cell_type": "markdown",
      "source": [
        "# **EXPERIMENT NO.3**\n",
        "\n",
        "## **AIM :- To Write A Python Program To Find The Exponentiation Of A Number.**"
      ],
      "metadata": {
        "id": "ZeqhDlZIGGkj"
      }
    },
    {
      "cell_type": "code",
      "source": [
        "# Q1 :- Program to Calculate Exponent using ** Operator\n",
        "a=10\n",
        "b=3\n",
        "result=a**b\n",
        "print(result)"
      ],
      "metadata": {
        "colab": {
          "base_uri": "https://localhost:8080/"
        },
        "id": "R60kyYJgAVfj",
        "outputId": "ce2b6a45-b9f3-4c69-afc1-6e536483cd3d"
      },
      "execution_count": null,
      "outputs": [
        {
          "output_type": "stream",
          "name": "stdout",
          "text": [
            "1000\n"
          ]
        }
      ]
    },
    {
      "cell_type": "code",
      "source": [
        "# Q2 :- Program to Calculate Exponent using pow() function\n",
        "a=10\n",
        "b=3\n",
        "result=pow(a,b)\n",
        "print(result)"
      ],
      "metadata": {
        "colab": {
          "base_uri": "https://localhost:8080/"
        },
        "id": "F6JtwQ3pl1Ui",
        "outputId": "f9ed540f-4e1e-4a11-9ff9-c84e8c1fd79e"
      },
      "execution_count": null,
      "outputs": [
        {
          "output_type": "stream",
          "name": "stdout",
          "text": [
            "1000\n"
          ]
        }
      ]
    },
    {
      "cell_type": "code",
      "source": [
        "# Q3 :- Program to Calculate Exponent using while loop \n",
        "aa=int(input(\"Enter any number of base=\"))\n",
        "bb=int(input(\"Enter any number for exponent=\"))\n",
        "power=1\n",
        "i=1\n",
        "while(i <= bb) :\n",
        " power=power*aa\n",
        " i=i+1\n",
        " print(power)"
      ],
      "metadata": {
        "id": "vL01AFRZB_Zg",
        "colab": {
          "base_uri": "https://localhost:8080/"
        },
        "outputId": "9f770fb8-d805-4bb9-d1fe-7328cc9ab927"
      },
      "execution_count": null,
      "outputs": [
        {
          "output_type": "stream",
          "name": "stdout",
          "text": [
            "Enter any number of base=10\n",
            "Enter any number for exponent=3\n",
            "10\n",
            "100\n",
            "1000\n"
          ]
        }
      ]
    },
    {
      "cell_type": "markdown",
      "source": [
        "# **EXPERIMENT NO.4**\n",
        "\n",
        "## **AIM :- To Write A Python Program To Find The Maximum From A List Of Numbers.**"
      ],
      "metadata": {
        "id": "IQ4kA0t0G3wc"
      }
    },
    {
      "cell_type": "code",
      "source": [
        "# Q1 :- Program using SORT() method\n",
        "\n",
        "# A list of numbers is given\n",
        "aa = [1, 10, 40, 36, 16]\n",
        "# sort() function sorts the list in ascending order\n",
        "aa.sort()\n",
        "print(\"Largest number is=\",aa[-1])"
      ],
      "metadata": {
        "id": "lKFBfN9bnZ3q",
        "colab": {
          "base_uri": "https://localhost:8080/"
        },
        "outputId": "96bf2c49-c3f7-461d-b782-052a900f5656"
      },
      "execution_count": null,
      "outputs": [
        {
          "output_type": "stream",
          "name": "stdout",
          "text": [
            "Largest number is= 40\n"
          ]
        }
      ]
    },
    {
      "cell_type": "code",
      "source": [
        "# Q2 :- Program using MAX() method\n",
        "\n",
        "#using max() function\n",
        "# A list of numbers\n",
        "aa = [19, 10, 45, 26, 6]\n",
        "bb=max(aa)\n",
        "print(\"Largest Number is=\",bb)"
      ],
      "metadata": {
        "id": "-l4r-pTAog8L",
        "colab": {
          "base_uri": "https://localhost:8080/"
        },
        "outputId": "4886da6b-1da8-4fb5-92ae-193967c52570"
      },
      "execution_count": null,
      "outputs": [
        {
          "output_type": "stream",
          "name": "stdout",
          "text": [
            "Largest Number is= 45\n"
          ]
        }
      ]
    },
    {
      "cell_type": "code",
      "source": [
        "# Q3 :- Program using FOR LOOP method\n",
        "\n",
        "# creating empty list\n",
        "aa1=[]\n",
        "# user enters the number of elements to put in list\n",
        "count =int(input('How many numbers?'))\n",
        "\n",
        "# iterating till count to append all input elements in list\n",
        "for n in range(count):\n",
        " number = int(input('Enter number: '))\n",
        " aa1.append(number)\n",
        "\n",
        "bb=max(aa1)\n",
        "print(\"Max Number is: \",bb)"
      ],
      "metadata": {
        "id": "Ajpf1OvopajU",
        "colab": {
          "base_uri": "https://localhost:8080/"
        },
        "outputId": "63bc5944-2eb9-42c2-bc13-6fbd4ff6db58"
      },
      "execution_count": null,
      "outputs": [
        {
          "output_type": "stream",
          "name": "stdout",
          "text": [
            "How many numbers?4\n",
            "Enter number: 4\n",
            "Enter number: 5\n",
            "Enter number: 23\n",
            "Enter number: 21\n",
            "Max Number is:  23\n"
          ]
        }
      ]
    },
    {
      "cell_type": "markdown",
      "source": [
        "# **EXPERIMENT NO.5**\n",
        "\n",
        "## **AIM :- To Write A Python Program To Perform Linear Search.**"
      ],
      "metadata": {
        "id": "Z-iB9ioLHRsF"
      }
    },
    {
      "cell_type": "code",
      "source": [
        "def linear_Search(list1, n, key):  \n",
        "  \n",
        "    # Searching list1 sequentially  \n",
        "    for i in range(0, n):  \n",
        "        if (list1[i] == key):  \n",
        "            return i  \n",
        "    return -1  \n",
        "  \n",
        "  \n",
        "list1 = [1 ,3, 5, 4, 7, 9]  \n",
        "key = 7  \n",
        "  \n",
        "n = len(list1)  \n",
        "res = linear_Search(list1, n, key)  \n",
        "if(res == -1):  \n",
        "    print(\"Element not found\")  \n",
        "else:  \n",
        "    print(\"Element found at index: \", res) "
      ],
      "metadata": {
        "id": "NkIl__NqY6D2",
        "colab": {
          "base_uri": "https://localhost:8080/"
        },
        "outputId": "cac283d0-9b9e-4cd0-ba30-f800659e247a"
      },
      "execution_count": null,
      "outputs": [
        {
          "output_type": "stream",
          "name": "stdout",
          "text": [
            "Element found at index:  4\n"
          ]
        }
      ]
    },
    {
      "cell_type": "markdown",
      "source": [
        "# **EXPERIMENT NO.6**\n",
        "\n",
        "## **AIM :- To Write A Python Program To Perform Binary Search.**"
      ],
      "metadata": {
        "id": "kB_xCvZfIX5Y"
      }
    },
    {
      "cell_type": "code",
      "source": [
        "# Iterative Binary Search Function method Python Implementation  \n",
        "# It returns index of n in given list1 if present,   \n",
        "# else returns -1   \n",
        "def binary_search(list1, n):  \n",
        "    low = 0  \n",
        "    high = len(list1) - 1  \n",
        "    mid = 0  \n",
        "  \n",
        "    while low <= high:  \n",
        "        # for get integer result   \n",
        "        mid = (high + low) // 2  \n",
        "  \n",
        "        # Check if n is present at mid   \n",
        "        if list1[mid] < n:  \n",
        "            low = mid + 1  \n",
        "  \n",
        "        # If n is greater, compare to the right of mid   \n",
        "        elif list1[mid] > n:  \n",
        "            high = mid - 1  \n",
        "  \n",
        "        # If n is smaller, compared to the left of mid  \n",
        "        else:  \n",
        "            return mid  \n",
        "  \n",
        "            # element was not present in the list, return -1  \n",
        "    return -1  \n",
        "  \n",
        "  \n",
        "# Initial list1  \n",
        "list1 = [12, 24, 32, 39, 45, 50, 54]  \n",
        "n = 45  \n",
        "  \n",
        "# Function call   \n",
        "result = binary_search(list1, n)  \n",
        "  \n",
        "if result != -1:  \n",
        "    print(\"Element is present at index\", str(result))  \n",
        "else:  \n",
        "    print(\"Element is not present in list1\")  "
      ],
      "metadata": {
        "colab": {
          "base_uri": "https://localhost:8080/"
        },
        "id": "H2-BQKsEM-da",
        "outputId": "0a7c7e8d-1b83-4f3c-e67b-00864477f04a"
      },
      "execution_count": null,
      "outputs": [
        {
          "output_type": "stream",
          "name": "stdout",
          "text": [
            "Element is present at index 4\n"
          ]
        }
      ]
    },
    {
      "cell_type": "markdown",
      "source": [
        "# **EXPERIMENT NO.7**\n",
        "\n",
        "## **AIM :- To Write A Python Program To Perform Selection Sort.**"
      ],
      "metadata": {
        "id": "qm9FTi5wIyBJ"
      }
    },
    {
      "cell_type": "code",
      "source": [
        "def selection_sort(array):  \n",
        "    length = len(array)  \n",
        "      \n",
        "    for i in range(length-1):  \n",
        "        minIndex = i  \n",
        "          \n",
        "        for j in range(i+1, length):  \n",
        "            if array[j]<array[minIndex]:  \n",
        "                minIndex = j  \n",
        "                  \n",
        "        array[i], array[minIndex] = array[minIndex], array[i]  \n",
        "          \n",
        "          \n",
        "    return array      \n",
        "array = [21,6,9,33,3]  \n",
        "  \n",
        "print(\"The sorted array is: \", selection_sort(array))  "
      ],
      "metadata": {
        "colab": {
          "base_uri": "https://localhost:8080/"
        },
        "id": "X_cOOMOqX85k",
        "outputId": "50d1a5be-a8e3-440c-fe73-d9022e96baec"
      },
      "execution_count": null,
      "outputs": [
        {
          "output_type": "stream",
          "name": "stdout",
          "text": [
            "The sorted array is:  [3, 6, 9, 21, 33]\n"
          ]
        }
      ]
    },
    {
      "cell_type": "markdown",
      "source": [
        "# **EXPERIMENT NO.8**\n",
        "\n",
        "## **AIM :- To Write A Python Program To Perform Insertion Sort.**"
      ],
      "metadata": {
        "id": "rKgd1cYQJCqY"
      }
    },
    {
      "cell_type": "code",
      "source": [
        "# creating a function for insertion  \n",
        "def insertion_sort(list1):  \n",
        "  \n",
        "        # Outer loop to traverse through 1 to len(list1)  \n",
        "        for i in range(1, len(list1)):  \n",
        "  \n",
        "            value = list1[i]  \n",
        "  \n",
        "            # Move elements of list1[0..i-1], that are  \n",
        "            # greater than value, to one position ahead  \n",
        "            # of their current position  \n",
        "            j = i - 1  \n",
        "            while j >= 0 and value < list1[j]:  \n",
        "                list1[j + 1] = list1[j]  \n",
        "                j -= 1  \n",
        "            list1[j + 1] = value  \n",
        "        return list1  \n",
        "            # Driver code to test above  \n",
        "  \n",
        "list1 = [10, 5, 13, 8, 2]  \n",
        "print(\"The unsorted list is:\", list1)  \n",
        "  \n",
        "print(\"The sorted list1 is:\", insertion_sort(list1))  "
      ],
      "metadata": {
        "colab": {
          "base_uri": "https://localhost:8080/"
        },
        "id": "mKIF8PjUOvWH",
        "outputId": "26c2f1bf-8983-43b1-d4b5-03e6dfeec834"
      },
      "execution_count": null,
      "outputs": [
        {
          "output_type": "stream",
          "name": "stdout",
          "text": [
            "The unsorted list is: [10, 5, 13, 8, 2]\n",
            "The sorted list1 is: [2, 5, 8, 10, 13]\n"
          ]
        }
      ]
    },
    {
      "cell_type": "markdown",
      "source": [
        "# **EXPERIMENT NO.9**\n",
        "\n",
        "## **AIM :- To Write A Python Program To Perform Merge Sort.**"
      ],
      "metadata": {
        "id": "jEZCSF9XJSiX"
      }
    },
    {
      "cell_type": "code",
      "source": [
        "# funtion to divide the lists in the two sublists  \n",
        "def merge_sort(list1, left_index, right_index):  \n",
        "    if left_index >= right_index:  \n",
        "        return  \n",
        "  \n",
        "    middle = (left_index + right_index)//2  \n",
        "    merge_sort(list1, left_index, middle)  \n",
        "    merge_sort(list1, middle + 1, right_index)  \n",
        "    merge(list1, left_index, right_index, middle)  \n",
        "  \n",
        "  \n",
        "    # Defining a function for merge the list  \n",
        "def merge(list1, left_index, right_index, middle):  \n",
        "  \n",
        "  \n",
        "   # Creating subparts of a lists  \n",
        "    left_sublist = list1[left_index:middle + 1]  \n",
        "    right_sublist = list1[middle+1:right_index+1]  \n",
        "  \n",
        "    # Initial values for variables that we use to keep  \n",
        "    # track of where we are in each list1  \n",
        "    left_sublist_index = 0  \n",
        "    right_sublist_index = 0  \n",
        "    sorted_index = left_index  \n",
        "  \n",
        "    # traverse both copies until we get run out one element  \n",
        "    while left_sublist_index < len(left_sublist) and right_sublist_index < len(right_sublist):  \n",
        "  \n",
        "        # If our left_sublist has the smaller element, put it in the sorted  \n",
        "        # part and then move forward in left_sublist (by increasing the pointer)  \n",
        "        if left_sublist[left_sublist_index] <= right_sublist[right_sublist_index]:  \n",
        "            list1[sorted_index] = left_sublist[left_sublist_index]  \n",
        "            left_sublist_index = left_sublist_index + 1  \n",
        "        # Otherwise add it into the right sublist  \n",
        "        else:  \n",
        "            list1[sorted_index] = right_sublist[right_sublist_index]  \n",
        "            right_sublist_index = right_sublist_index + 1  \n",
        "  \n",
        "  \n",
        "        # move forward in the sorted part  \n",
        "        sorted_index = sorted_index + 1  \n",
        "  \n",
        "       \n",
        "    # we will go through the remaining elements and add them  \n",
        "    while left_sublist_index < len(left_sublist):  \n",
        "        list1[sorted_index] = left_sublist[left_sublist_index]  \n",
        "        left_sublist_index = left_sublist_index + 1  \n",
        "        sorted_index = sorted_index + 1  \n",
        "  \n",
        "    while right_sublist_index < len(right_sublist):  \n",
        "        list1[sorted_index] = right_sublist[right_sublist_index]  \n",
        "        right_sublist_index = right_sublist_index + 1  \n",
        "        sorted_index = sorted_index + 1  \n",
        "  \n",
        "list1 = [44, 65, 2, 3, 58, 14, 57, 23, 10, 1, 7, 74, 48]  \n",
        "merge_sort(list1, 0, len(list1) -1)  \n",
        "print(list1)  "
      ],
      "metadata": {
        "colab": {
          "base_uri": "https://localhost:8080/"
        },
        "id": "6Hen2x1KSTfw",
        "outputId": "49de286e-c336-46f8-a1e6-6e79e2447344"
      },
      "execution_count": null,
      "outputs": [
        {
          "output_type": "stream",
          "name": "stdout",
          "text": [
            "[1, 2, 3, 7, 10, 14, 23, 44, 48, 57, 58, 65, 74]\n"
          ]
        }
      ]
    },
    {
      "cell_type": "markdown",
      "source": [
        "# **EXPERIMENT NO.10**\n",
        "\n",
        "## **AIM :- To Write A Python Program To Print All Prime Number In An Interval**"
      ],
      "metadata": {
        "id": "e9IBi96TMRxI"
      }
    },
    {
      "cell_type": "code",
      "source": [
        "# First, we will take the input:  \n",
        "lower_value = int(input (\"Please, Enter the Lowest Range Value: \"))  \n",
        "upper_value = int(input (\"Please, Enter the Upper Range Value: \"))  \n",
        "  \n",
        "print (\"The Prime Numbers in the range are: \")  \n",
        "for number in range (lower_value, upper_value + 1):  \n",
        "    if number > 1:  \n",
        "        for i in range (2, number):  \n",
        "            if (number % i) == 0:  \n",
        "                break  \n",
        "        else:  \n",
        "            print (number)  "
      ],
      "metadata": {
        "colab": {
          "base_uri": "https://localhost:8080/"
        },
        "id": "inGZiGKJT1ur",
        "outputId": "0c1cdf6b-bc97-48dd-94c0-17bfb854c207"
      },
      "execution_count": null,
      "outputs": [
        {
          "output_type": "stream",
          "name": "stdout",
          "text": [
            "Please, Enter the Lowest Range Value: 5\n",
            "Please, Enter the Upper Range Value: 20\n",
            "The Prime Numbers in the range are: \n",
            "5\n",
            "7\n",
            "11\n",
            "13\n",
            "17\n",
            "19\n"
          ]
        }
      ]
    },
    {
      "cell_type": "markdown",
      "source": [
        "# **EXPERIMENT NO.11**\n",
        "\n",
        "## **AIM :- To Write A Python Program To Multiply Matrices.**"
      ],
      "metadata": {
        "id": "vhE_4mJEZVux"
      }
    },
    {
      "cell_type": "code",
      "source": [
        "# Define two matrix A and B in program  \n",
        "A = [[5, 4, 3],  \n",
        "     [2, 4, 6],  \n",
        "     [4, 7, 9]]    \n",
        "B = [[3, 2, 4],  \n",
        "     [4, 3, 6],  \n",
        "     [2, 7, 5]]   \n",
        "# Define an empty matrix to store multiplication result  \n",
        "multiResult = [[0, 0, 0],    \n",
        "               [0, 0, 0],    \n",
        "               [0, 0, 0]]  \n",
        "# Using nested for loop method on A & B matrix  \n",
        "for m in range(len(A)):    \n",
        "   for n in range(len(B[0])):    \n",
        "          for o in range(len(B)):    \n",
        "               multiResult[m][n] += A[m][o] * B[o][n] # Storing multiplication result in empty matrix  \n",
        "# Printing multiplication result in the output  \n",
        "print(\"The multiplication result of matrix A and B is: \")  \n",
        "for res in multiResult:    \n",
        "   print(res) \n"
      ],
      "metadata": {
        "colab": {
          "base_uri": "https://localhost:8080/"
        },
        "id": "_C6IVZ_SUfNv",
        "outputId": "4e4ee6ff-185b-4b4f-ff5a-90bc0921d305"
      },
      "execution_count": null,
      "outputs": [
        {
          "output_type": "stream",
          "name": "stdout",
          "text": [
            "The multiplication result of matrix A and B is: \n",
            "[37, 43, 59]\n",
            "[34, 58, 62]\n",
            "[58, 92, 103]\n"
          ]
        }
      ]
    }
  ]
}